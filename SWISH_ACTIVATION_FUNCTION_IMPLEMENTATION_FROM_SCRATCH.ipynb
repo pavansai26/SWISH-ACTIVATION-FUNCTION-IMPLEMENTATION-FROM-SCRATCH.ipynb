{
  "nbformat": 4,
  "nbformat_minor": 0,
  "metadata": {
    "colab": {
      "name": "SWISH ACTIVATION FUNCTION IMPLEMENTATION FROM SCRATCH.ipynb",
      "provenance": [],
      "private_outputs": true,
      "authorship_tag": "ABX9TyMKTSkpnXXZ8DjAht5cFPv2",
      "include_colab_link": true
    },
    "kernelspec": {
      "name": "python3",
      "display_name": "Python 3"
    }
  },
  "cells": [
    {
      "cell_type": "markdown",
      "metadata": {
        "id": "view-in-github",
        "colab_type": "text"
      },
      "source": [
        "<a href=\"https://colab.research.google.com/github/pavansai26/SWISH-ACTIVATION-FUNCTION-IMPLEMENTATION-FROM-SCRATCH.ipynb/blob/master/SWISH_ACTIVATION_FUNCTION_IMPLEMENTATION_FROM_SCRATCH.ipynb\" target=\"_parent\"><img src=\"https://colab.research.google.com/assets/colab-badge.svg\" alt=\"Open In Colab\"/></a>"
      ]
    },
    {
      "cell_type": "code",
      "metadata": {
        "id": "V34Rnjibnuvv",
        "colab_type": "code",
        "colab": {}
      },
      "source": [
        ""
      ],
      "execution_count": null,
      "outputs": []
    },
    {
      "cell_type": "markdown",
      "metadata": {
        "id": "i9ewJRrwoRxm",
        "colab_type": "text"
      },
      "source": [
        "# SWISH ACTIVATION FUNCTION"
      ]
    },
    {
      "cell_type": "markdown",
      "metadata": {
        "id": "EgcUxJk-fFfn",
        "colab_type": "text"
      },
      "source": [
        "Y = X * sigmoid(X)"
      ]
    },
    {
      "cell_type": "code",
      "metadata": {
        "id": "nFPaTHeMoWdl",
        "colab_type": "code",
        "colab": {}
      },
      "source": [
        "import numpy as np"
      ],
      "execution_count": null,
      "outputs": []
    },
    {
      "cell_type": "code",
      "metadata": {
        "id": "Pj381ey3oZaI",
        "colab_type": "code",
        "colab": {}
      },
      "source": [
        "def swish(x,b=[0.1,1.0,10.0]):\n",
        "   return (1/(1+np.exp(-x*b)))*x"
      ],
      "execution_count": null,
      "outputs": []
    },
    {
      "cell_type": "code",
      "metadata": {
        "id": "hgJ2mKpMp5nG",
        "colab_type": "code",
        "colab": {}
      },
      "source": [
        "# plot inputs and outputs\n",
        "from matplotlib import pyplot\n",
        " \n",
        "# rectified linear function\n",
        "def swish(x,b=0.1):\n",
        "   return (1/(1+np.exp(-x*b)))*x\n",
        " \n",
        "# define a series of inputs\n",
        "series_in = [x for x in range(-10, 11)]\n",
        "# calculate outputs for our inputs\n",
        "series_out = [swish(x,b=0.1) for x in series_in]\n",
        "# line plot of raw inputs to rectified outputs\n",
        "pyplot.plot(series_in, series_out)\n",
        "pyplot.show()"
      ],
      "execution_count": null,
      "outputs": []
    },
    {
      "cell_type": "code",
      "metadata": {
        "id": "FfPnArRhqZku",
        "colab_type": "code",
        "colab": {}
      },
      "source": [
        "# plot inputs and outputs\n",
        "from matplotlib import pyplot\n",
        " \n",
        "# rectified linear function\n",
        "def swish(x,b=1.0):\n",
        "   return (1/(1+np.exp(-x*b)))*x\n",
        " \n",
        "# define a series of inputs\n",
        "series_in = [x for x in range(-10, 11)]\n",
        "# calculate outputs for our inputs\n",
        "series_out = [swish(x,b=1.0) for x in series_in]\n",
        "# line plot of raw inputs to rectified outputs\n",
        "pyplot.plot(series_in, series_out)\n",
        "pyplot.show()"
      ],
      "execution_count": null,
      "outputs": []
    },
    {
      "cell_type": "code",
      "metadata": {
        "id": "2oP2VlQMrKVT",
        "colab_type": "code",
        "colab": {}
      },
      "source": [
        "# plot inputs and outputs\n",
        "from matplotlib import pyplot\n",
        " \n",
        "# rectified linear function\n",
        "def swish(x,b=10.0):\n",
        "   return (1/(1+np.exp(-x*b)))*x\n",
        " \n",
        "# define a series of inputs\n",
        "series_in = [x for x in range(-10, 11)]\n",
        "# calculate outputs for our inputs\n",
        "series_out = [swish(x,b=10.0) for x in series_in]\n",
        "# line plot of raw inputs to rectified outputs\n",
        "pyplot.plot(series_in, series_out)\n",
        "pyplot.show()"
      ],
      "execution_count": null,
      "outputs": []
    },
    {
      "cell_type": "code",
      "metadata": {
        "id": "nU2NxZ20rTKL",
        "colab_type": "code",
        "colab": {}
      },
      "source": [
        ""
      ],
      "execution_count": null,
      "outputs": []
    }
  ]
}